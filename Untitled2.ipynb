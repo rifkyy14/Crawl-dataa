{
  "nbformat": 4,
  "nbformat_minor": 0,
  "metadata": {
    "colab": {
      "provenance": []
    },
    "kernelspec": {
      "name": "python3",
      "display_name": "Python 3"
    },
    "language_info": {
      "name": "python"
    }
  },
  "cells": [
    {
      "cell_type": "code",
      "execution_count": 81,
      "metadata": {
        "id": "R7Vb7uqN5ryd"
      },
      "outputs": [],
      "source": [
        "import requests"
      ]
    },
    {
      "cell_type": "code",
      "source": [
        "from bs4 import BeautifulSoup"
      ],
      "metadata": {
        "id": "ME67b3IZ5sO2"
      },
      "execution_count": 89,
      "outputs": []
    },
    {
      "cell_type": "code",
      "source": [
        "url = \"https://news.detik.com/indeks\""
      ],
      "metadata": {
        "id": "L_H6Nl1o5sZG"
      },
      "execution_count": 90,
      "outputs": []
    },
    {
      "cell_type": "code",
      "source": [
        "response = requests.get(url)"
      ],
      "metadata": {
        "id": "nvTRY0KI5seW"
      },
      "execution_count": 91,
      "outputs": []
    },
    {
      "cell_type": "code",
      "source": [
        "soup = BeautifulSoup(response.text, 'html.parser')"
      ],
      "metadata": {
        "id": "BwXgCVHF5sg3"
      },
      "execution_count": 92,
      "outputs": []
    },
    {
      "cell_type": "code",
      "source": [
        "urls = []"
      ],
      "metadata": {
        "id": "RDtHUqV5CT2g"
      },
      "execution_count": 93,
      "outputs": []
    },
    {
      "cell_type": "code",
      "source": [
        "judul = []"
      ],
      "metadata": {
        "id": "gIXV_1S7CT45"
      },
      "execution_count": 95,
      "outputs": []
    },
    {
      "cell_type": "code",
      "source": [
        "gambar = []"
      ],
      "metadata": {
        "id": "xOX7cKkKCT8r"
      },
      "execution_count": 96,
      "outputs": []
    },
    {
      "cell_type": "code",
      "source": [
        "tanggal_rilis = []"
      ],
      "metadata": {
        "id": "x7X20HdfCUAE"
      },
      "execution_count": 94,
      "outputs": []
    },
    {
      "cell_type": "code",
      "source": [
        "for elemen in soup.find_all('div', {'class': 'content'}):\n",
        "\n",
        "   url_elemen = elemen.find('a')['href']\n",
        "   urls.append(url_elemen)\n",
        "\n",
        "\n",
        "   judul_elemen = elemen.find('h2').text\n",
        "   judul.append(judul_elemen)\n",
        "\n",
        "\n",
        "   gambar_elemen = elemen.find('img')['src']\n",
        "   gambar.append(gambar_elemen)\n",
        "\n",
        "\n",
        "   tanggal_rilis_elemen = elemen.find('span', {'class': 'date'}).text\n",
        "   tanggal_rilis.append(tanggal_rilis_elemen)"
      ],
      "metadata": {
        "id": "QNlprIs6IVCO"
      },
      "execution_count": 97,
      "outputs": []
    },
    {
      "cell_type": "code",
      "source": [
        "print(\"URL\\t\\tJudul\\t\\tGambar\\t\\tTanggal Rilis\")\n",
        "for i in range(len(urls)):\n",
        "    print(f\"{urls[i]}\\t\\t{judul[i]}\\t\\t{gambar[i]}\\t\\t{tanggal_rilis[i]}\")"
      ],
      "metadata": {
        "colab": {
          "base_uri": "https://localhost:8080/"
        },
        "id": "60f_m8B5CoiG",
        "outputId": "fe7d1687-fbea-4a9a-dadc-eb2c046bd0a9"
      },
      "execution_count": 99,
      "outputs": [
        {
          "output_type": "stream",
          "name": "stdout",
          "text": [
            "URL\t\tJudul\t\tGambar\t\tTanggal Rilis\n"
          ]
        }
      ]
    },
    {
      "cell_type": "code",
      "source": [],
      "metadata": {
        "id": "UwiOyItOCokg"
      },
      "execution_count": null,
      "outputs": []
    },
    {
      "cell_type": "code",
      "source": [],
      "metadata": {
        "id": "NXYVYq2zCom8"
      },
      "execution_count": null,
      "outputs": []
    },
    {
      "cell_type": "code",
      "source": [],
      "metadata": {
        "id": "eziNJgaZCopM"
      },
      "execution_count": null,
      "outputs": []
    },
    {
      "cell_type": "code",
      "source": [],
      "metadata": {
        "id": "B3M535fuCorD"
      },
      "execution_count": null,
      "outputs": []
    },
    {
      "cell_type": "code",
      "source": [],
      "metadata": {
        "id": "ahKnoMU4Cotk"
      },
      "execution_count": null,
      "outputs": []
    },
    {
      "cell_type": "code",
      "source": [],
      "metadata": {
        "id": "qVrvTnpMCowL"
      },
      "execution_count": null,
      "outputs": []
    },
    {
      "cell_type": "code",
      "source": [],
      "metadata": {
        "id": "DEn53-C7CoyV"
      },
      "execution_count": null,
      "outputs": []
    },
    {
      "cell_type": "code",
      "source": [],
      "metadata": {
        "id": "MOVsGWnFCo0o"
      },
      "execution_count": null,
      "outputs": []
    },
    {
      "cell_type": "code",
      "source": [],
      "metadata": {
        "id": "DQn9CPOCCo4K"
      },
      "execution_count": null,
      "outputs": []
    }
  ]
}